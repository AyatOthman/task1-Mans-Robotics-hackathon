{
 "cells": [
  {
   "cell_type": "markdown",
   "id": "283afe2d",
   "metadata": {},
   "source": [
    "task 1\n",
    "\n",
    "Q1\n",
    "1)Write a python code to :\n",
    "\n",
    "1.add two numbers. \n",
    "\n",
    "2.subtract 2 numbers.\n",
    "\n",
    "3.multiply two numbers.\n",
    "\n",
    "4.devide two numbers"
   ]
  },
  {
   "cell_type": "code",
   "execution_count": 2,
   "id": "7bbcb64a",
   "metadata": {},
   "outputs": [
    {
     "name": "stdout",
     "output_type": "stream",
     "text": [
      "11\n",
      "-1\n",
      "30\n",
      "0.8333333333333334\n"
     ]
    }
   ],
   "source": [
    "#add two numbers :\n",
    "a = 5\n",
    "b = 6 \n",
    "print(a+b)\n",
    "#subtract two numbers :\n",
    "print(a-b)\n",
    "#multibly two numbers :\n",
    "print(a*b)\n",
    "#divide two numbers :\n",
    "print(a/b)"
   ]
  },
  {
   "cell_type": "code",
   "execution_count": 5,
   "id": "47ff2206",
   "metadata": {},
   "outputs": [
    {
     "name": "stdout",
     "output_type": "stream",
     "text": [
      "write number2\n",
      "write sec number6\n",
      "8\n",
      "-4\n",
      "12\n",
      "0.3333333333333333\n"
     ]
    }
   ],
   "source": [
    "def add_nums(num1,num2):\n",
    "    return num1 + num2\n",
    "def subtract_nums(num1,num2):\n",
    "    return num1 - num2\n",
    "def multib_nums(num1,num2):\n",
    "    return num1 * num2\n",
    "def div_nums(num1,num2):\n",
    "    return num1 / num2\n",
    "\n",
    "num1 = int(input(\"write number\"))\n",
    "num2 = int(input(\"write sec number\"))\n",
    "\n",
    "sum_nums = add_nums(num1,num2)\n",
    "diff_nums = subtract_nums(num1,num2)\n",
    "mult_nums = multib_nums(num1,num2)\n",
    "diiv_nums = div_nums(num1,num2)\n",
    "\n",
    "print(sum_nums)\n",
    "print(diff_nums)\n",
    "print(mult_nums)\n",
    "print(diiv_nums)"
   ]
  },
  {
   "cell_type": "markdown",
   "id": "1c371bec",
   "metadata": {},
   "source": [
    "Q2\n",
    "2) Create a tuple of 10 elements and then multiply \n",
    "each element of the tuple by 2 & save the results in a \n",
    "list"
   ]
  },
  {
   "cell_type": "code",
   "execution_count": 8,
   "id": "fec76f92",
   "metadata": {},
   "outputs": [
    {
     "name": "stdout",
     "output_type": "stream",
     "text": [
      "(1, 2, 3, 4, 5, 6, 7, 8, 9, 10)\n",
      "[2, 4, 6, 8, 10, 12, 14, 16, 18, 20]\n"
     ]
    }
   ],
   "source": [
    "my_tuple = (1,2,3,4,5,6,7,8,9,10)\n",
    "result_list = []\n",
    "for element in my_tuple :\n",
    "    result = element * 2 \n",
    "    result_list.append(result)\n",
    "print(my_tuple)\n",
    "print(result_list)"
   ]
  },
  {
   "cell_type": "markdown",
   "id": "b07631b4",
   "metadata": {},
   "source": [
    "Q3\n",
    "3) write program to calculate the sum of numbers , \n",
    "until the user enters zero using (while)\n",
    "\n",
    "• Hint :if the person enter 0 so the code will sum \n",
    "all the previous nember that the person enter it"
   ]
  },
  {
   "cell_type": "code",
   "execution_count": 10,
   "id": "94c3458e",
   "metadata": {},
   "outputs": [
    {
     "name": "stdout",
     "output_type": "stream",
     "text": [
      "enter a number and enter 0 to calculate the sum1 23 25 1 0\n",
      "invalid input\n",
      "enter a number and enter 0 to calculate the sum1\n",
      "enter a number and enter 0 to calculate the sum2\n",
      "enter a number and enter 0 to calculate the sum3\n",
      "enter a number and enter 0 to calculate the sum4\n",
      "enter a number and enter 0 to calculate the sum4\n",
      "enter a number and enter 0 to calculate the sum6\n",
      "enter a number and enter 0 to calculate the sum0\n",
      "sum of numbers is :  20\n"
     ]
    }
   ],
   "source": [
    "total = 0\n",
    "while True :\n",
    "    try:\n",
    "        num = int(input(\"enter a number and enter 0 to calculate the sum\"))\n",
    "        if num == 0:\n",
    "            break\n",
    "        total += num\n",
    "    except ValueError :\n",
    "        print(\"invalid input\")\n",
    "        \n",
    "print(\"sum of numbers is : \",total)"
   ]
  }
 ],
 "metadata": {
  "kernelspec": {
   "display_name": "Python 3 (ipykernel)",
   "language": "python",
   "name": "python3"
  },
  "language_info": {
   "codemirror_mode": {
    "name": "ipython",
    "version": 3
   },
   "file_extension": ".py",
   "mimetype": "text/x-python",
   "name": "python",
   "nbconvert_exporter": "python",
   "pygments_lexer": "ipython3",
   "version": "3.9.13"
  }
 },
 "nbformat": 4,
 "nbformat_minor": 5
}
